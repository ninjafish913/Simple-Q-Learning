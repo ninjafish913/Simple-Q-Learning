{
 "cells": [
  {
   "cell_type": "code",
   "execution_count": 36,
   "source": [
    "def initalize_maze(maze):\r\n",
    "    initalized_maze = []\r\n",
    "    for row in maze:\r\n",
    "        initalized_maze.append(row.split())\r\n",
    "    \r\n",
    "    initalized_board = initalized_maze.copy()\r\n",
    "    for row in range(len(initalized_board)):\r\n",
    "        for column in range(len(initalized_board[row])):\r\n",
    "            if initalized_board[row][column] == \"S\":\r\n",
    "                initalized_board[row][column] = \"-\"\r\n",
    "    \r\n",
    "    return initalized_maze, initalized_board\r\n",
    "\r\n",
    "maze = [\"S - - - - -\",\r\n",
    "        \"- # # - | -\",\r\n",
    "        \"- - | - | -\",\r\n",
    "        \"- # # - # #\",\r\n",
    "        \"- - | - - -\",\r\n",
    "        \"| - | - | E\"]\r\n",
    "\r\n",
    "maze, board = initalize_maze(maze)\r\n",
    "\r\n",
    "display_progress = False\r\n",
    "display_board = False"
   ],
   "outputs": [],
   "metadata": {}
  },
  {
   "cell_type": "code",
   "execution_count": 37,
   "source": [
    "from IPython.display import display, clear_output\r\n",
    "import time\r\n",
    "import matplotlib.pyplot as plt\r\n",
    "\r\n",
    "def Display_Progress(n_generations=0, wait=0):\r\n",
    "    if display_progress:\r\n",
    "        if n_generations == 0:\r\n",
    "            clear_output(wait=True)\r\n",
    "            \r\n",
    "            display(\"Generation \" + str(agent.generation))\r\n",
    "            \r\n",
    "            plt.plot(agent.gen_rewards)\r\n",
    "            plt.show()\r\n",
    "            \r\n",
    "            plt.plot(agent.gen_actions)\r\n",
    "            plt.show()\r\n",
    "            \r\n",
    "            time.sleep(wait)\r\n",
    "        elif (agent.generation % n_generations) == 0:\r\n",
    "            clear_output(wait=True)\r\n",
    "            \r\n",
    "            display(\"Generation \" + str(agent.generation))\r\n",
    "            \r\n",
    "            plt.plot(agent.gen_rewards)\r\n",
    "            plt.show()\r\n",
    "            \r\n",
    "            plt.plot(agent.gen_actions)\r\n",
    "            plt.show()\r\n",
    "            \r\n",
    "            time.sleep(wait)\r\n",
    "\r\n",
    "def Update_Board():\r\n",
    "    if display_board:\r\n",
    "        clear_output(wait=True)\r\n",
    "        \r\n",
    "        display(\"Generation \" + str(agent.generation))\r\n",
    "        display(\"Terminal Point \" + str(agent.env.Terminal_Point()))\r\n",
    "        \r\n",
    "        for row in range(len(board)):\r\n",
    "            text = \"\"\r\n",
    "            for column in range(len(board[row])):\r\n",
    "                text = text + board[row][column] + \"  \"\r\n",
    "            display(text)\r\n",
    "            \r\n",
    "        x, y = player.XY()\r\n",
    "        tile = x + (len(maze[0]) * y)\r\n",
    "        display(agent.Q[tile])"
   ],
   "outputs": [],
   "metadata": {}
  },
  {
   "cell_type": "code",
   "execution_count": 38,
   "source": [
    "class Player:\r\n",
    "    def __init__(self, icon=\"o\", blank=\"-\", slow=False, speed_limit=1) -> None:\r\n",
    "        self.icon = icon\r\n",
    "        self.blank = blank\r\n",
    "        self.slow = slow\r\n",
    "        self.speed_limit = speed_limit\r\n",
    "        self.time = 0\r\n",
    "        \r\n",
    "        for row in range(len(maze)):\r\n",
    "            for column in range(len(maze[row])):\r\n",
    "                if maze[row][column] == \"S\":\r\n",
    "                    board[row][column] = self.icon\r\n",
    "        \r\n",
    "    def XY(self):\r\n",
    "        x = 0\r\n",
    "        y = 1\r\n",
    "        \r\n",
    "        for row in range(len(board)):\r\n",
    "            for column in range(len(board[row])):\r\n",
    "                if board[row][column] == self.icon:\r\n",
    "                    x = column\r\n",
    "                    y = row\r\n",
    "        return x, y\r\n",
    "    \r\n",
    "    def State(self):\r\n",
    "        x, y = self.XY()\r\n",
    "        return x + (len(maze[0]) * y)\r\n",
    "    \r\n",
    "    def Terminal_Point(self):\r\n",
    "        x, y = self.XY()\r\n",
    "        return (x == 5 and y == 5)\r\n",
    "    \r\n",
    "    def Reward(self):\r\n",
    "        x, y = self.XY()\r\n",
    "        reward = 0\r\n",
    "        if not maze[y][x] == \"E\":\r\n",
    "            reward = -1\r\n",
    "        return reward\r\n",
    "    \r\n",
    "    def Spawn(self):\r\n",
    "        global board\r\n",
    "        x, y = self.XY()\r\n",
    "        board[y][x] = \"E\"\r\n",
    "\r\n",
    "        Display_Progress(n_generations=20, wait=5)\r\n",
    "\r\n",
    "        for row in range(len(maze)):\r\n",
    "            for column in range(len(maze[row])):\r\n",
    "                if maze[row][column] == \"S\":\r\n",
    "                    board[row][column] = self.icon\r\n",
    "                    \r\n",
    "        self.time = 0\r\n",
    "\r\n",
    "    def Right(self):\r\n",
    "        global board\r\n",
    "        x, y = self.XY()\r\n",
    "        \r\n",
    "        board[y][x] = self.icon\r\n",
    "        \r\n",
    "        Update_Board()\r\n",
    "        if self.slow:\r\n",
    "            time.sleep(self.speed_limit)\r\n",
    "            \r\n",
    "        if x+1 < len(maze[y]):\r\n",
    "            if maze[y][x+1] == self.blank or maze[y][x+1] == \"E\":\r\n",
    "                board[y][x] = self.blank\r\n",
    "                board[y][x+1] = self.icon\r\n",
    "        \r\n",
    "        self.time += 1\r\n",
    "                \r\n",
    "    def Left(self):\r\n",
    "        global board\r\n",
    "        x, y = self.XY()\r\n",
    "        \r\n",
    "        board[y][x] = self.icon\r\n",
    "        \r\n",
    "        Update_Board()\r\n",
    "        if self.slow:\r\n",
    "            time.sleep(self.speed_limit)\r\n",
    "        \r\n",
    "        if x-1 >= 0:\r\n",
    "            if maze[y][x-1] == self.blank or maze[y][x-1] == \"E\":\r\n",
    "                board[y][x] = self.blank\r\n",
    "                board[y][x-1] = self.icon\r\n",
    "                \r\n",
    "        self.time += 1\r\n",
    "                \r\n",
    "    def Down(self):\r\n",
    "        global board\r\n",
    "        x, y = self.XY()\r\n",
    "        \r\n",
    "        board[y][x] = self.icon\r\n",
    "        \r\n",
    "        Update_Board()\r\n",
    "        if self.slow:\r\n",
    "            time.sleep(self.speed_limit)\r\n",
    "\r\n",
    "        if y+1 < len(maze):\r\n",
    "            if maze[y+1][x] == self.blank or maze[y+1][x] == \"E\":\r\n",
    "                board[y][x] = self.blank\r\n",
    "                board[y+1][x] = self.icon\r\n",
    "                \r\n",
    "        self.time += 1\r\n",
    "                \r\n",
    "    def Up(self):\r\n",
    "        global board\r\n",
    "        x, y = self.XY()\r\n",
    "        \r\n",
    "        board[y][x] = self.icon\r\n",
    "        \r\n",
    "        Update_Board()\r\n",
    "        if self.slow:\r\n",
    "            time.sleep(self.speed_limit)\r\n",
    "        \r\n",
    "        if y-1 >= 0:\r\n",
    "            if maze[y-1][x] == self.blank or maze[y-1][x] == \"E\":\r\n",
    "                board[y][x] = self.blank\r\n",
    "                board[y-1][x] = self.icon\r\n",
    "                \r\n",
    "        self.time += 1"
   ],
   "outputs": [],
   "metadata": {}
  },
  {
   "cell_type": "code",
   "execution_count": 39,
   "source": [
    "from ReinforcementLearning import Action, Enviorment, QLearning, State\r\n",
    "\r\n",
    "player = Player(speed_limit=0.3)\r\n",
    "\r\n",
    "states = []\r\n",
    "states.append(State(\"Location\", 0, player.State, n_discrete=(len(maze))**2 ))\r\n",
    "\r\n",
    "actions = [Action(\"Right\", 0, player.Right), Action(\"Left\", 1, player.Left), Action(\"Down\", 2, player.Down), Action(\"Up\", 3, player.Up)]\r\n",
    "\r\n",
    "enviorment = Enviorment(player.Reward, player.Spawn, player.Terminal_Point, states, actions)"
   ],
   "outputs": [],
   "metadata": {}
  },
  {
   "cell_type": "code",
   "execution_count": 40,
   "source": [
    "display_progress = True\r\n",
    "\r\n",
    "agent = QLearning(enviorment, save_rewards=True)\r\n",
    "agent.Training_Mode(max_iterations=200) \r\n",
    "\r\n",
    "display_progress = False\r\n",
    "display_board = True\r\n",
    "player.slow = True\r\n",
    "\r\n",
    "agent.Inference_Mode()\r\n",
    "\r\n",
    "print(\"Done\")"
   ],
   "outputs": [
    {
     "output_type": "display_data",
     "data": {
      "text/plain": [
       "'Generation 200'"
      ]
     },
     "metadata": {}
    },
    {
     "output_type": "display_data",
     "data": {
      "text/plain": [
       "'Terminal Point False'"
      ]
     },
     "metadata": {}
    },
    {
     "output_type": "display_data",
     "data": {
      "text/plain": [
       "'-  -  -  -  -  -  '"
      ]
     },
     "metadata": {}
    },
    {
     "output_type": "display_data",
     "data": {
      "text/plain": [
       "'-  #  #  -  |  -  '"
      ]
     },
     "metadata": {}
    },
    {
     "output_type": "display_data",
     "data": {
      "text/plain": [
       "'-  -  |  -  |  -  '"
      ]
     },
     "metadata": {}
    },
    {
     "output_type": "display_data",
     "data": {
      "text/plain": [
       "'-  #  #  -  #  #  '"
      ]
     },
     "metadata": {}
    },
    {
     "output_type": "display_data",
     "data": {
      "text/plain": [
       "'-  -  |  -  -  o  '"
      ]
     },
     "metadata": {}
    },
    {
     "output_type": "display_data",
     "data": {
      "text/plain": [
       "'|  -  |  -  |  E  '"
      ]
     },
     "metadata": {}
    },
    {
     "output_type": "display_data",
     "data": {
      "text/plain": [
       "[-1.99, -2.9701, -1.0, -1.99]"
      ]
     },
     "metadata": {}
    },
    {
     "output_type": "stream",
     "name": "stdout",
     "text": [
      "Done\n"
     ]
    }
   ],
   "metadata": {}
  }
 ],
 "metadata": {
  "orig_nbformat": 4,
  "language_info": {
   "name": "python",
   "version": "3.8.8",
   "mimetype": "text/x-python",
   "codemirror_mode": {
    "name": "ipython",
    "version": 3
   },
   "pygments_lexer": "ipython3",
   "nbconvert_exporter": "python",
   "file_extension": ".py"
  },
  "kernelspec": {
   "name": "python3",
   "display_name": "Python 3.8.8 64-bit"
  },
  "interpreter": {
   "hash": "b3ba2566441a7c06988d0923437866b63cedc61552a5af99d1f4fb67d367b25f"
  }
 },
 "nbformat": 4,
 "nbformat_minor": 2
}